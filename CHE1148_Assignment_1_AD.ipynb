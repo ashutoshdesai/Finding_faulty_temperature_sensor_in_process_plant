{
  "nbformat": 4,
  "nbformat_minor": 0,
  "metadata": {
    "colab": {
      "name": "CHE1148_Assignment 1_AD.ipynb",
      "provenance": [],
      "collapsed_sections": []
    },
    "kernelspec": {
      "name": "python3",
      "display_name": "Python 3"
    }
  },
  "cells": [
    {
      "cell_type": "markdown",
      "metadata": {
        "id": "dfE8_muuAdv_"
      },
      "source": [
        "#CHE1148\n",
        "\n",
        "###Data Reconciliation - Assignment 1\n",
        "\n",
        "\n",
        "Student name: Ashutosh Desai\n",
        "\n",
        "Student number: 1004774041"
      ]
    },
    {
      "cell_type": "code",
      "metadata": {
        "id": "eJAJl2--ANte",
        "colab": {
          "base_uri": "https://localhost:8080/",
          "height": 402
        },
        "outputId": "60ee64a9-c19f-47d9-dcb5-e18b8eca1b2e"
      },
      "source": [
        "#Import the converted csv file from Github\n",
        "import pandas as pd\n",
        "import numpy as np\n",
        "link = 'https://raw.githubusercontent.com/ashutoshdesai/processdata1/main/Data4T_expt_i.csv'\n",
        "df = pd.read_csv(link)\n",
        "df"
      ],
      "execution_count": null,
      "outputs": [
        {
          "output_type": "execute_result",
          "data": {
            "text/html": [
              "<div>\n",
              "<style scoped>\n",
              "    .dataframe tbody tr th:only-of-type {\n",
              "        vertical-align: middle;\n",
              "    }\n",
              "\n",
              "    .dataframe tbody tr th {\n",
              "        vertical-align: top;\n",
              "    }\n",
              "\n",
              "    .dataframe thead th {\n",
              "        text-align: right;\n",
              "    }\n",
              "</style>\n",
              "<table border=\"1\" class=\"dataframe\">\n",
              "  <thead>\n",
              "    <tr style=\"text-align: right;\">\n",
              "      <th></th>\n",
              "      <th>Time (Sec.)</th>\n",
              "      <th>Cold (Volts)</th>\n",
              "      <th>Hot (Volts)</th>\n",
              "      <th>Total (Volts)</th>\n",
              "      <th>T1 (Deg C)</th>\n",
              "      <th>T2 (Deg C)</th>\n",
              "      <th>T4 (Deg C)</th>\n",
              "      <th>T5 (Deg C)</th>\n",
              "    </tr>\n",
              "  </thead>\n",
              "  <tbody>\n",
              "    <tr>\n",
              "      <th>0</th>\n",
              "      <td>46</td>\n",
              "      <td>2.77</td>\n",
              "      <td>2.98</td>\n",
              "      <td>2.80</td>\n",
              "      <td>18.55</td>\n",
              "      <td>46.87</td>\n",
              "      <td>40.89</td>\n",
              "      <td>33.09</td>\n",
              "    </tr>\n",
              "    <tr>\n",
              "      <th>1</th>\n",
              "      <td>48</td>\n",
              "      <td>2.78</td>\n",
              "      <td>2.97</td>\n",
              "      <td>2.85</td>\n",
              "      <td>18.36</td>\n",
              "      <td>47.06</td>\n",
              "      <td>41.43</td>\n",
              "      <td>32.73</td>\n",
              "    </tr>\n",
              "    <tr>\n",
              "      <th>2</th>\n",
              "      <td>50</td>\n",
              "      <td>2.78</td>\n",
              "      <td>3.02</td>\n",
              "      <td>2.82</td>\n",
              "      <td>18.55</td>\n",
              "      <td>46.87</td>\n",
              "      <td>39.80</td>\n",
              "      <td>33.64</td>\n",
              "    </tr>\n",
              "    <tr>\n",
              "      <th>3</th>\n",
              "      <td>52</td>\n",
              "      <td>2.83</td>\n",
              "      <td>2.91</td>\n",
              "      <td>2.79</td>\n",
              "      <td>18.55</td>\n",
              "      <td>46.87</td>\n",
              "      <td>39.80</td>\n",
              "      <td>33.09</td>\n",
              "    </tr>\n",
              "    <tr>\n",
              "      <th>4</th>\n",
              "      <td>54</td>\n",
              "      <td>2.80</td>\n",
              "      <td>3.01</td>\n",
              "      <td>2.97</td>\n",
              "      <td>18.36</td>\n",
              "      <td>47.06</td>\n",
              "      <td>41.07</td>\n",
              "      <td>33.27</td>\n",
              "    </tr>\n",
              "    <tr>\n",
              "      <th>...</th>\n",
              "      <td>...</td>\n",
              "      <td>...</td>\n",
              "      <td>...</td>\n",
              "      <td>...</td>\n",
              "      <td>...</td>\n",
              "      <td>...</td>\n",
              "      <td>...</td>\n",
              "      <td>...</td>\n",
              "    </tr>\n",
              "    <tr>\n",
              "      <th>2985</th>\n",
              "      <td>6016</td>\n",
              "      <td>2.46</td>\n",
              "      <td>2.97</td>\n",
              "      <td>2.92</td>\n",
              "      <td>18.36</td>\n",
              "      <td>50.14</td>\n",
              "      <td>41.43</td>\n",
              "      <td>34.91</td>\n",
              "    </tr>\n",
              "    <tr>\n",
              "      <th>2986</th>\n",
              "      <td>6018</td>\n",
              "      <td>2.46</td>\n",
              "      <td>2.93</td>\n",
              "      <td>1.54</td>\n",
              "      <td>17.99</td>\n",
              "      <td>49.78</td>\n",
              "      <td>41.98</td>\n",
              "      <td>33.82</td>\n",
              "    </tr>\n",
              "    <tr>\n",
              "      <th>2987</th>\n",
              "      <td>6020</td>\n",
              "      <td>2.45</td>\n",
              "      <td>2.91</td>\n",
              "      <td>2.79</td>\n",
              "      <td>18.17</td>\n",
              "      <td>49.59</td>\n",
              "      <td>42.70</td>\n",
              "      <td>35.45</td>\n",
              "    </tr>\n",
              "    <tr>\n",
              "      <th>2988</th>\n",
              "      <td>6022</td>\n",
              "      <td>2.46</td>\n",
              "      <td>2.92</td>\n",
              "      <td>2.93</td>\n",
              "      <td>18.36</td>\n",
              "      <td>49.59</td>\n",
              "      <td>41.61</td>\n",
              "      <td>34.00</td>\n",
              "    </tr>\n",
              "    <tr>\n",
              "      <th>2989</th>\n",
              "      <td>6024</td>\n",
              "      <td>2.49</td>\n",
              "      <td>2.90</td>\n",
              "      <td>2.92</td>\n",
              "      <td>17.99</td>\n",
              "      <td>49.78</td>\n",
              "      <td>42.88</td>\n",
              "      <td>34.54</td>\n",
              "    </tr>\n",
              "  </tbody>\n",
              "</table>\n",
              "<p>2990 rows × 8 columns</p>\n",
              "</div>"
            ],
            "text/plain": [
              "      Time (Sec.)  Cold (Volts)  ...  T4 (Deg C)  T5 (Deg C)\n",
              "0              46          2.77  ...       40.89       33.09\n",
              "1              48          2.78  ...       41.43       32.73\n",
              "2              50          2.78  ...       39.80       33.64\n",
              "3              52          2.83  ...       39.80       33.09\n",
              "4              54          2.80  ...       41.07       33.27\n",
              "...           ...           ...  ...         ...         ...\n",
              "2985         6016          2.46  ...       41.43       34.91\n",
              "2986         6018          2.46  ...       41.98       33.82\n",
              "2987         6020          2.45  ...       42.70       35.45\n",
              "2988         6022          2.46  ...       41.61       34.00\n",
              "2989         6024          2.49  ...       42.88       34.54\n",
              "\n",
              "[2990 rows x 8 columns]"
            ]
          },
          "metadata": {
            "tags": []
          },
          "execution_count": 51
        }
      ]
    },
    {
      "cell_type": "markdown",
      "metadata": {
        "id": "7zsWOtY8_WCa"
      },
      "source": [
        "MASS BALANCE SECTION"
      ]
    },
    {
      "cell_type": "markdown",
      "metadata": {
        "id": "wDP2D-IW8Bgi"
      },
      "source": [
        "a) Converting the flow data from volts (as given in the data file) to kg/h using the calibration equations given in the question sheet."
      ]
    },
    {
      "cell_type": "code",
      "metadata": {
        "id": "UyIrkPmPMFyV"
      },
      "source": [
        "#df['Cold (Volts)']"
      ],
      "execution_count": null,
      "outputs": []
    },
    {
      "cell_type": "code",
      "metadata": {
        "id": "4UGRgM-0MQie",
        "colab": {
          "base_uri": "https://localhost:8080/",
          "height": 67
        },
        "outputId": "ad813500-292b-45bd-91d6-85c1da409762"
      },
      "source": [
        "cold_volts = np.array(df['Cold (Volts)'])\n",
        "hot_volts = np.array(df['Hot (Volts)'])\n",
        "total_volts = np.array(df['Total (Volts)'])\n",
        "print(cold_volts)\n",
        "print(hot_volts)\n",
        "print(total_volts)"
      ],
      "execution_count": null,
      "outputs": [
        {
          "output_type": "stream",
          "text": [
            "[2.77 2.78 2.78 ... 2.45 2.46 2.49]\n",
            "[2.98 2.97 3.02 ... 2.91 2.92 2.9 ]\n",
            "[2.8  2.85 2.82 ... 2.79 2.93 2.92]\n"
          ],
          "name": "stdout"
        }
      ]
    },
    {
      "cell_type": "code",
      "metadata": {
        "id": "OiENQhzTN5xh",
        "colab": {
          "base_uri": "https://localhost:8080/",
          "height": 118
        },
        "outputId": "c6709d1d-b059-4766-f5e0-0a5a92a9278d"
      },
      "source": [
        "#The converted flowrates are stored as arrays and printed\n",
        "m_cw = 1.256 + (178.032 * np.sqrt(cold_volts))\n",
        "m_hw = 1.444 + (181.574 * np.sqrt(hot_volts))\n",
        "m_t = -2.319 + (355.822 * np.sqrt(total_volts))\n",
        "print(m_cw)\n",
        "print(m_hw)\n",
        "print(m_t)"
      ],
      "execution_count": null,
      "outputs": [
        {
          "output_type": "stream",
          "text": [
            "[297.56030081 298.09466427 298.09466427 ... 279.92015792 280.48828116\n",
            " 282.18575747]\n",
            "[314.88932231 314.36296539 316.98596991 ... 311.18604083 311.71778721\n",
            " 310.65338   ]\n",
            "[593.08508792 598.37767279 595.20774738 ... 592.02091533 606.75015564\n",
            " 605.70990013]\n"
          ],
          "name": "stdout"
        }
      ]
    },
    {
      "cell_type": "code",
      "metadata": {
        "id": "osT_ziChOcCq",
        "colab": {
          "base_uri": "https://localhost:8080/",
          "height": 252
        },
        "outputId": "3b3b6176-f6d5-4c65-949d-308f8d381d6d"
      },
      "source": [
        "df['Cold water flowrate (Mcw) (kg/h)'] = m_cw\n",
        "df['Hot water flowrate (Mhw) (kg/h)'] = m_hw\n",
        "df['Total water flowrate (Mt) (kg/h)'] = m_t\n",
        "print(df)\n"
      ],
      "execution_count": null,
      "outputs": [
        {
          "output_type": "stream",
          "text": [
            "      Time (Sec.)  ...  Total water flowrate (Mt) (kg/h)\n",
            "0              46  ...                        593.085088\n",
            "1              48  ...                        598.377673\n",
            "2              50  ...                        595.207747\n",
            "3              52  ...                        592.020915\n",
            "4              54  ...                        610.893531\n",
            "...           ...  ...                               ...\n",
            "2985         6016  ...                        605.709900\n",
            "2986         6018  ...                        439.244490\n",
            "2987         6020  ...                        592.020915\n",
            "2988         6022  ...                        606.750156\n",
            "2989         6024  ...                        605.709900\n",
            "\n",
            "[2990 rows x 11 columns]\n"
          ],
          "name": "stdout"
        }
      ]
    },
    {
      "cell_type": "markdown",
      "metadata": {
        "id": "ETsnrAko8iSS"
      },
      "source": [
        "Here, this dataframe contains the updated columns of the converted flowrates."
      ]
    },
    {
      "cell_type": "markdown",
      "metadata": {
        "id": "coeg0Ojf81sS"
      },
      "source": [
        "b) "
      ]
    },
    {
      "cell_type": "code",
      "metadata": {
        "id": "bWDfCPT8QJFo",
        "colab": {
          "base_uri": "https://localhost:8080/",
          "height": 285
        },
        "outputId": "9d472aeb-cf37-4979-ed60-26da27b3746c"
      },
      "source": [
        "from matplotlib import pyplot as plt\n",
        "plt.plot(df['Time (Sec.)'],df['Cold water flowrate (Mcw) (kg/h)'], label='Mcw vs Time')\n",
        "plt.plot(df['Time (Sec.)'],df['Hot water flowrate (Mhw) (kg/h)'], label='Mhw vs Time')\n",
        "plt.plot(df['Time (Sec.)'],df['Total water flowrate (Mt) (kg/h)'], label='Mt vs Time')\n",
        "plt.legend()\n"
      ],
      "execution_count": null,
      "outputs": [
        {
          "output_type": "execute_result",
          "data": {
            "text/plain": [
              "<matplotlib.legend.Legend at 0x7fc041d2f860>"
            ]
          },
          "metadata": {
            "tags": []
          },
          "execution_count": 56
        },
        {
          "output_type": "display_data",
          "data": {
            "image/png": "[encoded data removed]",
            "text/plain": [
              "<Figure size 432x288 with 1 Axes>"
            ]
          },
          "metadata": {
            "tags": [],
            "needs_background": "light"
          }
        }
      ]
    },
    {
      "cell_type": "markdown",
      "metadata": {
        "id": "9Bk-R2xM_L0i"
      },
      "source": [
        "Plot of the flow rate data (each of the three flowrates) in units of kg/h versus time."
      ]
    },
    {
      "cell_type": "code",
      "metadata": {
        "id": "0hOTlQDeT9Ii",
        "colab": {
          "base_uri": "https://localhost:8080/",
          "height": 84
        },
        "outputId": "5ea7cdb5-485a-4ba7-cf5f-b57e6273b075"
      },
      "source": [
        "#results without the split\n",
        "std_Mcw = np.std(m_cw)\n",
        "std_Mhw = np.std(m_hw)\n",
        "std_Mt = np.std(m_t)\n",
        "mean_Mcw = np.mean(m_cw)\n",
        "mean_Mhw = np.mean(m_hw)\n",
        "mean_Mt = np.mean(m_t)\n",
        "print('These results are WITHOUT the split of the data')\n",
        "print(std_Mcw,std_Mhw,std_Mt)\n",
        "print(std_Mcw**2,std_Mhw**2,std_Mt**2)\n",
        "print(mean_Mcw,mean_Mhw,mean_Mt)"
      ],
      "execution_count": null,
      "outputs": [
        {
          "output_type": "stream",
          "text": [
            "These results are WITHOUT the split of the data\n",
            "7.4664647941173286 3.7711999221010917 13.269019543575432\n",
            "55.74809652179352 14.221948852455279 176.06687964778675\n",
            "291.71634208316544 315.1414525084316 597.4895942763908\n"
          ],
          "name": "stdout"
        }
      ]
    },
    {
      "cell_type": "code",
      "metadata": {
        "id": "x5-whvLMyRDZ",
        "colab": {
          "base_uri": "https://localhost:8080/",
          "height": 67
        },
        "outputId": "4226442f-c2b2-4247-96d7-ff0947fd238d"
      },
      "source": [
        "#results with the split - segment 1\n",
        "df1 = df.iloc[:1708]\n",
        "#df1\n",
        "std_M1cw = np.std(df1['Cold water flowrate (Mcw) (kg/h)'])\n",
        "std_M1hw = np.std(df1['Hot water flowrate (Mhw) (kg/h)'])\n",
        "std_M1t = np.std(df1['Total water flowrate (Mt) (kg/h)'])\n",
        "mean_M1cw = np.mean(df1['Cold water flowrate (Mcw) (kg/h)'])\n",
        "mean_M1hw = np.mean(df1['Hot water flowrate (Mhw) (kg/h)'])\n",
        "mean_M1t = np.mean(df1['Total water flowrate (Mt) (kg/h)'])\n",
        "\n",
        "print('The results for 1st split cold water flowrate (segment 1), mean = %.2f and variance = %.2f'%(mean_M1cw,std_M1cw**2))\n",
        "print('The results for 1st split hot water flowrate (segment 1), mean = %.2f and variance = %.2f'%(mean_M1hw,std_M1hw**2))\n",
        "print('The results for 1st split total water flowrate (segment 1), mean = %.2f and variance = %.2f'%(mean_M1t,std_M1t**2))\n"
      ],
      "execution_count": null,
      "outputs": [
        {
          "output_type": "stream",
          "text": [
            "The results for 1st split cold water flowrate (segment 1), mean = 297.86 and variance = 6.00\n",
            "The results for 1st split hot water flowrate (segment 1), mean = 314.27 and variance = 12.69\n",
            "The results for 1st split total water flowrate (segment 1), mean = 595.51 and variance = 190.20\n"
          ],
          "name": "stdout"
        }
      ]
    },
    {
      "cell_type": "markdown",
      "metadata": {
        "id": "EFdFJ9hu_Y0I"
      },
      "source": [
        "The segmenting of data is done visually from the plot. \n",
        "\n",
        "Segment 1 = 1708 rows\n",
        "\n",
        "The mean and variance results are shown above for segment 1"
      ]
    },
    {
      "cell_type": "code",
      "metadata": {
        "id": "kHL5IkNrz2ly",
        "colab": {
          "base_uri": "https://localhost:8080/",
          "height": 67
        },
        "outputId": "f2fb3025-7aa7-4ef1-d9d8-3dcf07a68b2c"
      },
      "source": [
        "#results with the split - segment 2\n",
        "df2 = df.iloc[1708:]\n",
        "#df2\n",
        "std_M2cw = np.std(df2['Cold water flowrate (Mcw) (kg/h)'])\n",
        "std_M2hw = np.std(df2['Hot water flowrate (Mhw) (kg/h)'])\n",
        "std_M2t = np.std(df2['Total water flowrate (Mt) (kg/h)'])\n",
        "mean_M2cw = np.mean(df2['Cold water flowrate (Mcw) (kg/h)'])\n",
        "mean_M2hw = np.mean(df2['Hot water flowrate (Mhw) (kg/h)'])\n",
        "mean_M2t = np.mean(df2['Total water flowrate (Mt) (kg/h)'])\n",
        "\n",
        "print('The results for 2nd split cold water flowrate (segment 2), mean = %.2f and variance = %.2f'%(mean_M2cw,std_M2cw**2))\n",
        "print('The results for 2nd split hot water flowrate (segment 2), mean = %.2f and variance = %.2f'%(mean_M2hw,std_M2hw**2))\n",
        "print('The results for 2nd split total water flowrate (segment 2), mean = %.2f and variance = %.2f'%(mean_M2t,std_M2t**2))\n"
      ],
      "execution_count": null,
      "outputs": [
        {
          "output_type": "stream",
          "text": [
            "The results for 2nd split cold water flowrate (segment 2), mean = 283.52 and variance = 4.57\n",
            "The results for 2nd split hot water flowrate (segment 2), mean = 316.30 and variance = 13.93\n",
            "The results for 2nd split total water flowrate (segment 2), mean = 600.12 and variance = 145.13\n"
          ],
          "name": "stdout"
        }
      ]
    },
    {
      "cell_type": "markdown",
      "metadata": {
        "id": "U1jKNePpCLdG"
      },
      "source": [
        "The segmenting of data is done visually from the plot. \n",
        "\n",
        "Segment 2 = 1282 rows\n",
        "\n",
        "The mean and variance results are shown above for segment 2"
      ]
    },
    {
      "cell_type": "markdown",
      "metadata": {
        "id": "69mxgN1_CXa-"
      },
      "source": [
        "c)"
      ]
    },
    {
      "cell_type": "code",
      "metadata": {
        "id": "PeCPLLQB61KA",
        "colab": {
          "base_uri": "https://localhost:8080/",
          "height": 67
        },
        "outputId": "fcecb0c1-f545-40ae-ed35-388fd67f2169"
      },
      "source": [
        "#Removing outliners from segment 1\n",
        "#Cold water flowrate 1\n",
        "m1_cw = df1['Cold water flowrate (Mcw) (kg/h)']\n",
        "#m1_cw\n",
        "m1_cw_ext1 = mean_M1cw + (3*std_M1cw)\n",
        "m1_cw_ext2 = mean_M1cw - (3*std_M1cw)\n",
        "#print(m1_cw_ext1)\n",
        "#print(m1_cw_ext2)\n",
        "m1_cw_clean = []\n",
        "m1_cw_out = []\n",
        "\n",
        "for i in m1_cw:\n",
        "  if i>m1_cw_ext1:\n",
        "    m1_cw_out.append(i)\n",
        "    m1_cw_clean.append(mean_M1cw)\n",
        "  elif i<m1_cw_ext2:\n",
        "    m1_cw_out.append(i)\n",
        "    m1_cw_clean.append(mean_M1cw)\n",
        "  else:\n",
        "    m1_cw_clean.append(i)\n",
        "\n",
        "m1_cw_clean = np.array(m1_cw_clean)\n",
        "m1_cw_out = np.array(m1_cw_out)\n",
        "print('The number of outliers for the cold water flowrate (segment 1) = %i'%m1_cw_out.shape[0])\n",
        "\n",
        "#Hot water flowrate 1\n",
        "m1_hw = df1['Hot water flowrate (Mhw) (kg/h)']\n",
        "#m1_hw\n",
        "m1_hw_ext1 = mean_M1hw + (3*std_M1hw)\n",
        "m1_hw_ext2 = mean_M1hw - (3*std_M1hw)\n",
        "#print(m1_hw_ext1)\n",
        "#print(m1_hw_ext2)\n",
        "m1_hw_clean = []\n",
        "m1_hw_out = []\n",
        "\n",
        "for i in m1_hw:\n",
        "  if i>m1_hw_ext1:\n",
        "    m1_hw_out.append(i)\n",
        "    m1_hw_clean.append(mean_M1hw)\n",
        "  elif i<m1_hw_ext2:\n",
        "    m1_hw_out.append(i)\n",
        "    m1_hw_clean.append(mean_M1hw)\n",
        "  else:\n",
        "    m1_hw_clean.append(i)\n",
        "\n",
        "m1_hw_clean = np.array(m1_hw_clean)\n",
        "m1_hw_out = np.array(m1_hw_out)\n",
        "print('The number of outliers for the hot water flowrate (segment 1) = %i'%m1_hw_out.shape[0])\n",
        "\n",
        "#Total flowrate 1\n",
        "m1_t = df1['Total water flowrate (Mt) (kg/h)']\n",
        "#m1_t\n",
        "m1_t_ext1 = mean_M1t + (3*std_M1t)\n",
        "m1_t_ext2 = mean_M1t - (3*std_M1t)\n",
        "#print(m1_t_ext1)\n",
        "#print(m1_t_ext2)\n",
        "m1_t_clean = []\n",
        "m1_t_out = []\n",
        "\n",
        "for i in m1_t:\n",
        "  if i>m1_t_ext1:\n",
        "    m1_t_out.append(i)\n",
        "    m1_t_clean.append(mean_M1t)\n",
        "  elif i<m1_t_ext2:\n",
        "    m1_t_out.append(i)\n",
        "    m1_t_clean.append(mean_M1t)\n",
        "  else:\n",
        "    m1_t_clean.append(i)\n",
        "\n",
        "m1_t_clean = np.array(m1_t_clean)\n",
        "m1_t_out = np.array(m1_t_out)\n",
        "print('The number of outliers for the total water flowrate (segment 1) = %i'%m1_t_out.shape[0])\n"
      ],
      "execution_count": null,
      "outputs": [
        {
          "output_type": "stream",
          "text": [
            "The number of outliers for the cold water flowrate (segment 1) = 26\n",
            "The number of outliers for the hot water flowrate (segment 1) = 15\n",
            "The number of outliers for the total water flowrate (segment 1) = 8\n"
          ],
          "name": "stdout"
        }
      ]
    },
    {
      "cell_type": "markdown",
      "metadata": {
        "id": "3CE80MXlCmo6"
      },
      "source": [
        "The code above removes the outliers from segment 1 data and also gives the number of outliers present for each parameter.\n"
      ]
    },
    {
      "cell_type": "code",
      "metadata": {
        "id": "ny3eA9Mg7kq4",
        "colab": {
          "base_uri": "https://localhost:8080/",
          "height": 282
        },
        "outputId": "77f03b87-4488-499f-d465-ea3ae84cd442"
      },
      "source": [
        "#plot for 1st segment \n",
        "plt.plot(df1['Time (Sec.)'],m1_cw_clean, label='Mcw vs Time')\n",
        "plt.plot(df1['Time (Sec.)'],m1_hw_clean, label='Mhw vs Time')\n",
        "plt.plot(df1['Time (Sec.)'],m1_t_clean, label='Mt vs Time')\n",
        "plt.legend()\n"
      ],
      "execution_count": null,
      "outputs": [
        {
          "output_type": "execute_result",
          "data": {
            "text/plain": [
              "<matplotlib.legend.Legend at 0x7fc041d57390>"
            ]
          },
          "metadata": {
            "tags": []
          },
          "execution_count": 61
        },
        {
          "output_type": "display_data",
          "data": {
            "image/png": "[encoded data removed]",
            "text/plain": [
              "<Figure size 432x288 with 1 Axes>"
            ]
          },
          "metadata": {
            "tags": [],
            "needs_background": "light"
          }
        }
      ]
    },
    {
      "cell_type": "markdown",
      "metadata": {
        "id": "k-S2TjrmE6OJ"
      },
      "source": [
        "Segment 1 plot after removing the outliers"
      ]
    },
    {
      "cell_type": "code",
      "metadata": {
        "id": "4WYCRQ6E4a32",
        "colab": {
          "base_uri": "https://localhost:8080/",
          "height": 67
        },
        "outputId": "11af9bbc-21e7-46ed-ed7c-27065f6040e8"
      },
      "source": [
        "#Removing outliners from segment 2\n",
        "#Cold water flowrate 2\n",
        "m2_cw = df2['Cold water flowrate (Mcw) (kg/h)']\n",
        "#m2_cw\n",
        "m2_cw_ext1 = mean_M2cw + (3*std_M2cw)\n",
        "m2_cw_ext2 = mean_M2cw - (3*std_M2cw)\n",
        "#print(m2_cw_ext1)\n",
        "#print(m2_cw_ext2)\n",
        "m2_cw_clean = []\n",
        "m2_cw_out = []\n",
        "\n",
        "for i in m2_cw:\n",
        "  if i>m2_cw_ext1:\n",
        "    m2_cw_out.append(i)\n",
        "    m2_cw_clean.append(mean_M2cw)\n",
        "  elif i<m2_cw_ext2:\n",
        "    m2_cw_out.append(i)\n",
        "    m2_cw_clean.append(mean_M2cw)\n",
        "  else:\n",
        "    m2_cw_clean.append(i)\n",
        "\n",
        "m2_cw_clean = np.array(m2_cw_clean)\n",
        "m2_cw_out = np.array(m2_cw_out)\n",
        "print('The number of outliers for the cold water flowrate (segment 2) = %i'%m2_cw_out.shape[0])\n",
        "\n",
        "#Hot water flowrate 2\n",
        "m2_hw = df2['Hot water flowrate (Mhw) (kg/h)']\n",
        "#m2_hw\n",
        "m2_hw_ext1 = mean_M2hw + (3*std_M2hw)\n",
        "m2_hw_ext2 = mean_M2hw - (3*std_M2hw)\n",
        "#print(m2_hw_ext1)\n",
        "#print(m2_hw_ext2)\n",
        "m2_hw_clean = []\n",
        "m2_hw_out = []\n",
        "\n",
        "for i in m2_hw:\n",
        "  if i>m2_hw_ext1:\n",
        "    m2_hw_out.append(i)\n",
        "    m2_hw_clean.append(mean_M2hw)\n",
        "  elif i<m2_hw_ext2:\n",
        "    m2_hw_out.append(i)\n",
        "    m2_hw_clean.append(mean_M2hw)\n",
        "  else:\n",
        "    m2_hw_clean.append(i)\n",
        "\n",
        "m2_hw_clean = np.array(m2_hw_clean)\n",
        "m2_hw_out = np.array(m2_hw_out)\n",
        "print('The number of outliers for the hot water flowrate (segment 2) = %i'%m2_hw_out.shape[0])\n",
        "\n",
        "#Total flowrate 2\n",
        "m2_t = df2['Total water flowrate (Mt) (kg/h)']\n",
        "#m2_t\n",
        "m2_t_ext1 = mean_M2t + (3*std_M2t)\n",
        "m2_t_ext2 = mean_M2t - (3*std_M2t)\n",
        "#print(m2_t_ext1)\n",
        "#print(m2_t_ext2)\n",
        "m2_t_clean = []\n",
        "m2_t_out = []\n",
        "\n",
        "for i in m2_t:\n",
        "  if i>m2_t_ext1:\n",
        "    m2_t_out.append(i)\n",
        "    m2_t_clean.append(mean_M2t)\n",
        "  elif i<m2_t_ext2:\n",
        "    m2_t_out.append(i)\n",
        "    m2_t_clean.append(mean_M2t)\n",
        "  else:\n",
        "    m2_t_clean.append(i)\n",
        "\n",
        "m2_t_clean = np.array(m2_t_clean)\n",
        "m2_t_out = np.array(m2_t_out)\n",
        "print('The number of outliers for the total water flowrate (segment 2) = %i'%m2_t_out.shape[0])"
      ],
      "execution_count": null,
      "outputs": [
        {
          "output_type": "stream",
          "text": [
            "The number of outliers for the cold water flowrate (segment 2) = 25\n",
            "The number of outliers for the hot water flowrate (segment 2) = 9\n",
            "The number of outliers for the total water flowrate (segment 2) = 5\n"
          ],
          "name": "stdout"
        }
      ]
    },
    {
      "cell_type": "markdown",
      "metadata": {
        "id": "fvs1KkI1FFP8"
      },
      "source": [
        "The code above removes the outliers from segment 1 data and also gives the number of outliers present for each parameter."
      ]
    },
    {
      "cell_type": "code",
      "metadata": {
        "id": "ytOxEbM76FZ8",
        "colab": {
          "base_uri": "https://localhost:8080/",
          "height": 282
        },
        "outputId": "10e0b7fc-9223-46ca-c245-8d7bdc782507"
      },
      "source": [
        "#plot for 2nd segment \n",
        "plt.plot(df2['Time (Sec.)'],m2_cw_clean, label='Mcw vs Time')\n",
        "plt.plot(df2['Time (Sec.)'],m2_hw_clean, label='Mhw vs Time')\n",
        "plt.plot(df2['Time (Sec.)'],m2_t_clean, label='Mt vs Time')\n",
        "plt.legend()"
      ],
      "execution_count": null,
      "outputs": [
        {
          "output_type": "execute_result",
          "data": {
            "text/plain": [
              "<matplotlib.legend.Legend at 0x7fc04b664160>"
            ]
          },
          "metadata": {
            "tags": []
          },
          "execution_count": 63
        },
        {
          "output_type": "display_data",
          "data": {
            "image/png": "[encoded data removed]",
            "text/plain": [
              "<Figure size 432x288 with 1 Axes>"
            ]
          },
          "metadata": {
            "tags": [],
            "needs_background": "light"
          }
        }
      ]
    },
    {
      "cell_type": "markdown",
      "metadata": {
        "id": "rknc3t0FFJNq"
      },
      "source": [
        "Segment 2 plot after removing the outliers"
      ]
    },
    {
      "cell_type": "code",
      "metadata": {
        "id": "rKcBVfN46QvF",
        "colab": {
          "base_uri": "https://localhost:8080/",
          "height": 282
        },
        "outputId": "c345be6f-016c-4691-bdaa-238a4653f5f7"
      },
      "source": [
        "#Make a copy of the dataframe\n",
        "Df = df.copy()\n",
        "\n",
        "#Merge the fresh data\n",
        "M_CW = np.concatenate((m1_cw_clean,m2_cw_clean),axis=0)\n",
        "M_HW = np.concatenate((m1_hw_clean,m2_hw_clean),axis=0)\n",
        "M_T = np.concatenate((m1_t_clean,m2_t_clean),axis=0)\n",
        "\n",
        "Df['Cold water flowrate (Mcw) (kg/h)'] = M_CW\n",
        "Df['Hot water flowrate (Mhw) (kg/h)'] = M_HW\n",
        "Df['Total water flowrate (Mt) (kg/h)'] = M_T\n",
        "\n",
        "plt.plot(Df['Time (Sec.)'],Df['Cold water flowrate (Mcw) (kg/h)'], label='Mcw vs Time')\n",
        "plt.plot(Df['Time (Sec.)'],Df['Hot water flowrate (Mhw) (kg/h)'], label='Mhw vs Time')\n",
        "plt.plot(Df['Time (Sec.)'],Df['Total water flowrate (Mt) (kg/h)'], label='Mt vs Time')\n",
        "plt.legend()\n"
      ],
      "execution_count": null,
      "outputs": [
        {
          "output_type": "execute_result",
          "data": {
            "text/plain": [
              "<matplotlib.legend.Legend at 0x7fc041c9c470>"
            ]
          },
          "metadata": {
            "tags": []
          },
          "execution_count": 64
        },
        {
          "output_type": "display_data",
          "data": {
            "image/png": "[encoded data removed]",
            "text/plain": [
              "<Figure size 432x288 with 1 Axes>"
            ]
          },
          "metadata": {
            "tags": [],
            "needs_background": "light"
          }
        }
      ]
    },
    {
      "cell_type": "markdown",
      "metadata": {
        "id": "qwrjBl93FuCV"
      },
      "source": [
        "This plot is of the cleaned flowrate data vs time."
      ]
    },
    {
      "cell_type": "markdown",
      "metadata": {
        "id": "M2TkbY9RF3MK"
      },
      "source": [
        "d)"
      ]
    },
    {
      "cell_type": "code",
      "metadata": {
        "id": "YSmlye0A-awM"
      },
      "source": [
        "#Computing the mass balance closure errors\n",
        "e1 = m1_t_clean - m1_hw_clean - m1_cw_clean\n",
        "e2 = m2_t_clean - m2_hw_clean - m2_cw_clean\n",
        "#print(e1)\n",
        "#print(e2)"
      ],
      "execution_count": null,
      "outputs": []
    },
    {
      "cell_type": "code",
      "metadata": {
        "id": "E46-vYlB_EYJ",
        "colab": {
          "base_uri": "https://localhost:8080/",
          "height": 282
        },
        "outputId": "2d109fd0-a311-4252-f2f3-879346f0d780"
      },
      "source": [
        "plt.hist(e1)\n",
        "std_e1 = np.std(e1)\n",
        "var_e1 = std_e1**2\n",
        "mean_e1 = np.mean(e1)\n",
        "print('The results for mass balance closure error (segment 1), mean = %.2f and variance = %.2f'%(mean_e1,var_e1))"
      ],
      "execution_count": null,
      "outputs": [
        {
          "output_type": "stream",
          "text": [
            "The results for mass balance closure error (segment 1), mean = -16.43 and variance = 90.80\n"
          ],
          "name": "stdout"
        },
        {
          "output_type": "display_data",
          "data": {
            "image/png": "[encoded data removed]",
            "text/plain": [
              "<Figure size 432x288 with 1 Axes>"
            ]
          },
          "metadata": {
            "tags": [],
            "needs_background": "light"
          }
        }
      ]
    },
    {
      "cell_type": "code",
      "metadata": {
        "id": "pAPCVVWUAQtq",
        "colab": {
          "base_uri": "https://localhost:8080/",
          "height": 282
        },
        "outputId": "4777a32e-4449-4ba9-fccc-adefc8cdc1c2"
      },
      "source": [
        "plt.hist(e2)\n",
        "std_e2 = np.std(e2)\n",
        "var_e2 = std_e2**2\n",
        "mean_e2 = np.mean(e2)\n",
        "print('The results for mass balance closure error (segment 2), mean = %.2f and variance = %.2f'%(mean_e2,var_e2))"
      ],
      "execution_count": null,
      "outputs": [
        {
          "output_type": "stream",
          "text": [
            "The results for mass balance closure error (segment 2), mean = 0.42 and variance = 95.08\n"
          ],
          "name": "stdout"
        },
        {
          "output_type": "display_data",
          "data": {
            "image/png": "[encoded data removed]",
            "text/plain": [
              "<Figure size 432x288 with 1 Axes>"
            ]
          },
          "metadata": {
            "tags": [],
            "needs_background": "light"
          }
        }
      ]
    },
    {
      "cell_type": "markdown",
      "metadata": {
        "id": "kzuYF2F6GOxc"
      },
      "source": [
        "The mass balance closure error (e2), which is computed from the 'segment 2' data set gives a reasonably 'close-to-zero' result. The cold water flowrate experiences a sudden drop in the measurement from 297 to 283. The dropped value turns out to be closest to the correct value. Thus, the cold water flowrate sensor is inconsistent."
      ]
    },
    {
      "cell_type": "markdown",
      "metadata": {
        "id": "Qsg2lXT8HxPZ"
      },
      "source": [
        "e)"
      ]
    },
    {
      "cell_type": "markdown",
      "metadata": {
        "id": "sICPgTiM_Hue"
      },
      "source": [
        "ENERGY BALANCE SECTION"
      ]
    },
    {
      "cell_type": "code",
      "metadata": {
        "id": "PZniNRP3_SvA",
        "colab": {
          "base_uri": "https://localhost:8080/",
          "height": 349
        },
        "outputId": "21893673-9d1c-4733-84e9-d677f9a1fa25"
      },
      "source": [
        "#plot T4 and T5 vs time\n",
        "plt.plot(Df['Time (Sec.)'],Df['T4 (Deg C)'], label='T4 vs Time')\n",
        "plt.plot(Df['Time (Sec.)'],Df['T5 (Deg C)'], label='T5 vs Time')\n",
        "plt.legend()\n",
        "\n",
        "t1_seg = Df['T1 (Deg C)'][1708:]\n",
        "t2_seg = Df['T2 (Deg C)'][1708:]\n",
        "t4_seg = Df['T4 (Deg C)'][1708:]\n",
        "t5_seg = Df['T5 (Deg C)'][1708:]\n",
        "time_seg = Df['Time (Sec.)'][1708:]\n",
        "print(t1_seg.shape)\n",
        "print(t2_seg.shape)\n",
        "print(t4_seg.shape)\n",
        "print(t5_seg.shape)\n",
        "print(time_seg.shape)"
      ],
      "execution_count": null,
      "outputs": [
        {
          "output_type": "stream",
          "text": [
            "(1282,)\n",
            "(1282,)\n",
            "(1282,)\n",
            "(1282,)\n",
            "(1282,)\n"
          ],
          "name": "stdout"
        },
        {
          "output_type": "display_data",
          "data": {
            "image/png": "[encoded data removed]",
            "text/plain": [
              "<Figure size 432x288 with 1 Axes>"
            ]
          },
          "metadata": {
            "tags": [],
            "needs_background": "light"
          }
        }
      ]
    },
    {
      "cell_type": "markdown",
      "metadata": {
        "id": "ixTiBxOvIeY-"
      },
      "source": [
        "Visualization of the plot leads to the decision that from now on, data from row 1708 to 2990 shall be considered as it is stationary data."
      ]
    },
    {
      "cell_type": "code",
      "metadata": {
        "id": "BICdT_GMCyPc",
        "colab": {
          "base_uri": "https://localhost:8080/",
          "height": 302
        },
        "outputId": "4073ff4c-347e-4ea9-a801-0822d5dfe101"
      },
      "source": [
        "#plot stationary t4 and t5 data\n",
        "plt.plot(time_seg,t4_seg, label='T4 vs Time (stationary)')\n",
        "plt.plot(time_seg,t5_seg, label='T5 vs Time (stationary)')\n",
        "plt.legend()\n",
        "\n",
        "std_t4 = np.std(t4_seg)\n",
        "var_t4 = std_t4**2\n",
        "mean_t4 = np.mean(t4_seg)\n",
        "print('The mean for T4 = %.2f & the variance = %.2f'%(mean_t4,var_t4))\n",
        "\n",
        "std_t5 = np.std(t5_seg)\n",
        "var_t5 = std_t5**2\n",
        "mean_t5 = np.mean(t5_seg)\n",
        "print('The mean for T5 = %.2f & the variance = %.2f'%(mean_t5,var_t5))\n"
      ],
      "execution_count": null,
      "outputs": [
        {
          "output_type": "stream",
          "text": [
            "The mean for T4 = 43.06 & the variance = 0.77\n",
            "The mean for T5 = 35.03 & the variance = 0.24\n"
          ],
          "name": "stdout"
        },
        {
          "output_type": "display_data",
          "data": {
            "image/png": "[encoded data removed]",
            "text/plain": [
              "<Figure size 432x288 with 1 Axes>"
            ]
          },
          "metadata": {
            "tags": [],
            "needs_background": "light"
          }
        }
      ]
    },
    {
      "cell_type": "markdown",
      "metadata": {
        "id": "ZV_YWOKBJEzm"
      },
      "source": [
        "The variance for T4 is greater than T5 because T4 sensor is close to the mixing joint of the hot and cold streams. The thermodynamic activity leads to such a variation whereas the T5 sensor is placed in a position where the mixed stream stabilizes a bit."
      ]
    },
    {
      "cell_type": "markdown",
      "metadata": {
        "id": "EAIi7F-ELORf"
      },
      "source": [
        "f) We go ahead with the clean data of segment 2 for the flowrates from row number 1708 to 2990"
      ]
    },
    {
      "cell_type": "markdown",
      "metadata": {
        "id": "DsJeNwj8KHJ0"
      },
      "source": [
        "h)"
      ]
    },
    {
      "cell_type": "code",
      "metadata": {
        "id": "YjbqMwggLgHh",
        "colab": {
          "base_uri": "https://localhost:8080/",
          "height": 218
        },
        "outputId": "3e0d1d16-0f08-46d2-c3a0-d7b40cd2767f"
      },
      "source": [
        "#Cancelling the heat capacities from the energy balance equations. Hence, e3(closure error) = T4-T5 [assumption]\n",
        "#Computing the e3 closure error\n",
        "e3 = t4_seg - t5_seg\n",
        "print(e3)"
      ],
      "execution_count": null,
      "outputs": [
        {
          "output_type": "stream",
          "text": [
            "1708    8.71\n",
            "1709    8.70\n",
            "1710    9.43\n",
            "1711    7.98\n",
            "1712    9.06\n",
            "        ... \n",
            "2985    6.52\n",
            "2986    8.16\n",
            "2987    7.25\n",
            "2988    7.61\n",
            "2989    8.34\n",
            "Length: 1282, dtype: float64\n"
          ],
          "name": "stdout"
        }
      ]
    },
    {
      "cell_type": "markdown",
      "metadata": {
        "id": "dWYQWh7_KXF1"
      },
      "source": [
        "i)"
      ]
    },
    {
      "cell_type": "code",
      "metadata": {
        "id": "sAkhVv6eKZM3",
        "colab": {
          "base_uri": "https://localhost:8080/",
          "height": 282
        },
        "outputId": "8ec63460-da20-485f-a375-07127144948f"
      },
      "source": [
        "plt.hist(e3)\n",
        "std_e3 = np.std(e3)\n",
        "var_e3 = std_e3**2\n",
        "mean_e3 = np.mean(e3)\n",
        "print('The results for e3 closure error , mean = %.2f and variance = %.2f'%(mean_e3,var_e3))"
      ],
      "execution_count": null,
      "outputs": [
        {
          "output_type": "stream",
          "text": [
            "The results for e3 closure error , mean = 8.04 and variance = 0.92\n"
          ],
          "name": "stdout"
        },
        {
          "output_type": "display_data",
          "data": {
            "image/png": "[encoded data removed]",
            "text/plain": [
              "<Figure size 432x288 with 1 Axes>"
            ]
          },
          "metadata": {
            "tags": [],
            "needs_background": "light"
          }
        }
      ]
    },
    {
      "cell_type": "markdown",
      "metadata": {
        "id": "zp8t79ofKfWN"
      },
      "source": [
        "Yes, there is a gross error with either the T4 temperature sensor or the T5 temperature sensor"
      ]
    },
    {
      "cell_type": "markdown",
      "metadata": {
        "id": "ZMaSab0OLAUl"
      },
      "source": [
        "j) 1)"
      ]
    },
    {
      "cell_type": "code",
      "metadata": {
        "id": "HwDrnDBM-I82"
      },
      "source": [
        "#Computing energy balance closure errors for T4 and T5\n",
        "#The Cp will be ignored as it doesn't change significantly for the range of temperatures of water we are dealing with.\n",
        "\n",
        "e4 = (m2_cw_clean*t1_seg) + (m2_hw_clean*t2_seg) - (m2_t_clean*t4_seg) #considering t4\n",
        "e5 = (m2_cw_clean*t1_seg) + (m2_hw_clean*t2_seg) - (m2_t_clean*t5_seg) #considering t5"
      ],
      "execution_count": null,
      "outputs": []
    },
    {
      "cell_type": "code",
      "metadata": {
        "id": "3P22Tchn_-LP",
        "colab": {
          "base_uri": "https://localhost:8080/",
          "height": 282
        },
        "outputId": "9a446522-0283-422e-a9fd-18583a15d54c"
      },
      "source": [
        "#Computing the e4 closure error\n",
        "\n",
        "plt.hist(e4)\n",
        "std_e4 = np.std(e4)\n",
        "var_e4 = std_e4**2\n",
        "mean_e4 = np.mean(e4)\n",
        "print('The results for e4 closure error , mean = %.2f and variance = %.2f'%(mean_e4,var_e4))"
      ],
      "execution_count": null,
      "outputs": [
        {
          "output_type": "stream",
          "text": [
            "The results for e4 closure error , mean = -4734.26 and variance = 459952.79\n"
          ],
          "name": "stdout"
        },
        {
          "output_type": "display_data",
          "data": {
            "image/png": "[encoded data removed]",
            "text/plain": [
              "<Figure size 432x288 with 1 Axes>"
            ]
          },
          "metadata": {
            "tags": [],
            "needs_background": "light"
          }
        }
      ]
    },
    {
      "cell_type": "code",
      "metadata": {
        "id": "wWplmZEoAKgY",
        "colab": {
          "base_uri": "https://localhost:8080/",
          "height": 282
        },
        "outputId": "08ea7b4e-e4d9-4e51-80c0-7ad29e778a65"
      },
      "source": [
        "#Computing the e5 closure error\n",
        "\n",
        "plt.hist(e5)\n",
        "std_e5 = np.std(e5)\n",
        "var_e5 = std_e5**2\n",
        "mean_e5 = np.mean(e5)\n",
        "print('The results for e5 closure error , mean = %.2f and variance = %.2f'%(mean_e5,var_e5))"
      ],
      "execution_count": null,
      "outputs": [
        {
          "output_type": "stream",
          "text": [
            "The results for e5 closure error , mean = 92.21 and variance = 202743.27\n"
          ],
          "name": "stdout"
        },
        {
          "output_type": "display_data",
          "data": {
            "image/png": "[encoded data removed]",
            "text/plain": [
              "<Figure size 432x288 with 1 Axes>"
            ]
          },
          "metadata": {
            "tags": [],
            "needs_background": "light"
          }
        }
      ]
    },
    {
      "cell_type": "markdown",
      "metadata": {
        "id": "Tei7UwhlLNAW"
      },
      "source": [
        "j) 2)\n",
        "\n",
        "The e5 closure error, which is the closure error for T5 temperature sensor, gives the most reasonable closure error.\n",
        "Based on the mean and variance results, the T4 temperature sensor is most likely to contain a gross error."
      ]
    }
  ]
}